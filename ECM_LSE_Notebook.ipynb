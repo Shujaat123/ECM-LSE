{
  "nbformat": 4,
  "nbformat_minor": 0,
  "metadata": {
    "colab": {
      "name": "ECM_LSE_Notebook.ipynb",
      "provenance": [],
      "collapsed_sections": [],
      "authorship_tag": "ABX9TyP+KOo1cLJg/5TR0MGlWtLd",
      "include_colab_link": true
    },
    "kernelspec": {
      "name": "python3",
      "display_name": "Python 3"
    },
    "accelerator": "GPU"
  },
  "cells": [
    {
      "cell_type": "markdown",
      "metadata": {
        "id": "view-in-github",
        "colab_type": "text"
      },
      "source": [
        "<a href=\"https://colab.research.google.com/github/Shujaat123/ECM-LSE/blob/master/ECM_LSE_Notebook.ipynb\" target=\"_parent\"><img src=\"https://colab.research.google.com/assets/colab-badge.svg\" alt=\"Open In Colab\"/></a>"
      ]
    },
    {
      "cell_type": "markdown",
      "metadata": {
        "id": "DeEJa2_TZnec",
        "colab_type": "text"
      },
      "source": [
        "## **ECM-LSE: Extracellular Matrix Proteins Prediction Using Latent Space Encoding of Composition of k-Spaced Amino Acid Pairs**\n"
      ]
    },
    {
      "cell_type": "markdown",
      "metadata": {
        "id": "s-m_byicZkQc",
        "colab_type": "text"
      },
      "source": [
        "This code provide python implementation of ECM-LSE algorithm."
      ]
    },
    {
      "cell_type": "markdown",
      "metadata": {
        "id": "LadaflfshqgF",
        "colab_type": "text"
      },
      "source": [
        "# Loading Useful packages"
      ]
    },
    {
      "cell_type": "code",
      "metadata": {
        "id": "Si6012nzZktl",
        "colab_type": "code",
        "colab": {}
      },
      "source": [
        "## Load useful packages\n",
        "import sys, os, re, gc\n",
        "from scipy.io import savemat\n",
        "import numpy as np\n",
        "import pandas as pd\n",
        "import matplotlib.pyplot as plt\n",
        "from keras import optimizers\n",
        "from keras.utils.np_utils import to_categorical\n",
        "from collections import Counter\n",
        "import matplotlib.pyplot as plt\n",
        "from keras.models import Model\n",
        "from keras.layers import Input, Dense, BatchNormalization, Dropout\n",
        "from keras import optimizers\n",
        "from keras.utils.np_utils import to_categorical\n",
        "from keras import metrics\n",
        "from sklearn.metrics import confusion_matrix\n",
        "from sklearn.metrics import classification_report, accuracy_score, matthews_corrcoef, balanced_accuracy_score, precision_recall_fscore_support\n",
        "from keras.models import load_model\n",
        "from keras.callbacks import EarlyStopping\n",
        "from keras.callbacks import ModelCheckpoint\n",
        "from random import sample"
      ],
      "execution_count": 0,
      "outputs": []
    },
    {
      "cell_type": "markdown",
      "metadata": {
        "id": "dEwrowDzZ_Ah",
        "colab_type": "text"
      },
      "source": [
        "# Feature-Extraction\n",
        "\n",
        "The CKSAAP feature encoding calculates the frequency of amino acid pairs separated by any k residues. The CKSAAP encoding scheme reflects the amino acid pair information in small and large range with in the peptides depending upon the value of k(gap). The encoding scheme is utilized from iFeature web server, using the following download link: (https://github.com/Superzchen/iFeature).\n"
      ]
    },
    {
      "cell_type": "code",
      "metadata": {
        "id": "p258z8dGR0iQ",
        "colab_type": "code",
        "colab": {}
      },
      "source": [
        "## Define CKSAAP feature-extraction function\n",
        "def minSequenceLength(fastas):\n",
        "\tminLen = 10000\n",
        "\tfor i in fastas:\n",
        "\t\tif minLen > len(i[1]):\n",
        "\t\t\tminLen = len(i[1])\n",
        "\treturn minLen\n",
        "\n",
        "def CKSAAP(fastas, gap=5, **kw):\n",
        "\tif gap < 0:\n",
        "\t\tprint('Error: the gap should be equal or greater than zero' + '\\n\\n')\n",
        "\t\treturn 0\n",
        "\n",
        "\tif minSequenceLength(fastas) < gap+2:\n",
        "\t\tprint('Error: all the sequence length should be larger than the (gap value) + 2 = ' + str(gap+2) + '\\n\\n')\n",
        "\t\treturn 0\n",
        "\n",
        "\tAA = 'ACDEFGHIKLMNPQRSTVWY'\n",
        "\tencodings = []\n",
        "\taaPairs = []\n",
        "\tfor aa1 in AA:\n",
        "\t\tfor aa2 in AA:\n",
        "\t\t\taaPairs.append(aa1 + aa2)\n",
        "\theader = ['#']\n",
        "\tfor g in range(gap+1):\n",
        "\t\tfor aa in aaPairs:\n",
        "\t\t\theader.append(aa + '.gap' + str(g))\n",
        "\tencodings.append(header)\n",
        "\tfor i in fastas:\n",
        "\t\tname, sequence = i[0], i[1]\n",
        "\t\tcode = [name]\n",
        "\t\tfor g in range(gap+1):\n",
        "\t\t\tmyDict = {}\n",
        "\t\t\tfor pair in aaPairs:\n",
        "\t\t\t\tmyDict[pair] = 0\n",
        "\t\t\tsum = 0\n",
        "\t\t\tfor index1 in range(len(sequence)):\n",
        "\t\t\t\tindex2 = index1 + g + 1\n",
        "\t\t\t\tif index1 < len(sequence) and index2 < len(sequence) and sequence[index1] in AA and sequence[index2] in AA:\n",
        "\t\t\t\t\tmyDict[sequence[index1] + sequence[index2]] = myDict[sequence[index1] + sequence[index2]] + 1\n",
        "\t\t\t\t\tsum = sum + 1\n",
        "\t\t\tfor pair in aaPairs:\n",
        "\t\t\t\tcode.append(myDict[pair] / sum)\n",
        "\t\tencodings.append(code)\n",
        "\treturn encodings\n"
      ],
      "execution_count": 0,
      "outputs": []
    },
    {
      "cell_type": "markdown",
      "metadata": {
        "id": "ar9mtHsEaAyA",
        "colab_type": "text"
      },
      "source": [
        "# Designing an Auto-Encoder-based classifier model"
      ]
    },
    {
      "cell_type": "code",
      "metadata": {
        "id": "Ge7uF0idR-Gc",
        "colab_type": "code",
        "colab": {}
      },
      "source": [
        "## Designing an Auto-Encoder-Classifier model\n",
        "def AFP_LSE_Final_Model(LV=5):\n",
        "    # Encoder Network\n",
        "    enc_input = Input(shape=(3600,), name='enc_input')\n",
        "    enc_l1 = Dense(50, activation='relu', name='encoder_layer1')(enc_input)\n",
        "    enc_l1 = BatchNormalization()(enc_l1)\n",
        "    enc_l1 = Dropout(rate=0.7)(enc_l1)\n",
        "\n",
        "    enc_l2 = Dense(25, activation='relu', name='encoder_layer2')(enc_l1)\n",
        "    enc_l2 = BatchNormalization()(enc_l2)\n",
        "    enc_l2 = Dropout(rate=0.3)(enc_l2)\n",
        "\n",
        "    enc_l3 = Dense(25, activation='relu', name='encoder_layer3')(enc_l2)\n",
        "    enc_l3 = BatchNormalization()(enc_l3)\n",
        "    enc_l3 = Dropout(rate=0.3)(enc_l3)\n",
        "\n",
        "    enc_l4 = Dense(10, activation='relu', name='encoder_layer4')(enc_l3)\n",
        "    enc_l4 = BatchNormalization()(enc_l4)\n",
        "    enc_l4 = Dropout(rate=0.3)(enc_l4)\n",
        "\n",
        "    encoder_output = Dense(LV, activation='sigmoid', name='encoder_output')(enc_l4)\n",
        "\n",
        "    # Classifier Network\n",
        "    class_l1 = Dense(10, activation='relu', name='class_layer1')(encoder_output)\n",
        "    class_l2 = Dense(10, activation='relu', name='class_layer2')(class_l1)\n",
        "    class_l3 = Dense(10, activation='relu', name='class_layer3')(class_l2)\n",
        "    class_output = Dense(2, activation='softmax', name='class_output')(class_l3)\n",
        "\n",
        "    # Decoder Network\n",
        "    dec_l1 = Dense(10, activation='relu', name='decoder_layer1')(encoder_output)\n",
        "    dec_l1 = BatchNormalization()(dec_l1)\n",
        "    dec_l1 = Dropout(0.7)(dec_l1)\n",
        "\n",
        "    dec_l2 = Dense(25, activation='relu', name='decoder_layer2')(dec_l1)\n",
        "    dec_l2 = BatchNormalization()(dec_l2)\n",
        "    dec_l2 = Dropout(0.3)(dec_l2)\n",
        "\n",
        "    dec_l3 = Dense(25, activation='relu', name='decoder_layer3')(dec_l2)\n",
        "    dec_l3 = BatchNormalization()(dec_l3)\n",
        "    dec_l3 = Dropout(0.3)(dec_l3)\n",
        "\n",
        "    dec_l4 = Dense(50, activation='relu', name='decoder_layer4')(dec_l3)\n",
        "    dec_l4 = BatchNormalization()(dec_l4)\n",
        "    dec_l4 = Dropout(0.3)(dec_l4)\n",
        "\n",
        "    decoder_output = Dense(3600, activation='sigmoid', name='decoder_output')(dec_l4)\n",
        "\n",
        "    model = Model(inputs=[enc_input], outputs=[class_output, decoder_output])\n",
        "\n",
        "    # Compiling model\n",
        "    model.compile(optimizer='rmsprop',\n",
        "                  loss={'class_output': 'binary_crossentropy', 'decoder_output': 'mean_squared_error'},\n",
        "                  loss_weights={'class_output': 1., 'decoder_output': 0.01},\n",
        "                  metrics=[metrics.categorical_accuracy])\n",
        "    # Here I used rmsprops optimizer with default values, two objective functions are optimized\n",
        "    # using  weight factors [1 for classifier and 0.1 for decoder loss]\n",
        "    return model\n",
        "\n"
      ],
      "execution_count": 0,
      "outputs": []
    },
    {
      "cell_type": "markdown",
      "metadata": {
        "id": "83mfGGGKaBdj",
        "colab_type": "text"
      },
      "source": [
        "## Define performance measures"
      ]
    },
    {
      "cell_type": "code",
      "metadata": {
        "id": "zsirQcmlTK7y",
        "colab_type": "code",
        "colab": {}
      },
      "source": [
        "## Define performance measures\n",
        "def yoden_index(y, y_pred):\n",
        "  tn, fp, fn, tp = confusion_matrix(y, y_pred).ravel()\n",
        "  j = (tp/(tp+fn)) + (tn/(tn+fp)) - 1\n",
        "  return j\n",
        "\n",
        "def pmeasure(y_true, y_pred):\n",
        "    tn, fp, fn, tp = confusion_matrix(y_true, y_pred).ravel()\n",
        "    sensitivity = tp / (tp + fn)\n",
        "    specificity = tn / (tn + fp)\n",
        "    f1score = 2 * tp / (2 * tp + fp + fn)\n",
        "    return ({'Sensitivity': sensitivity, 'Specificity': specificity, 'F1-Score': f1score})\n",
        "\n",
        "def Show_Statistics(msg,Stats):\n",
        "  print(msg.upper())\n",
        "  print(70*'-')\n",
        "  print('Accuracy:',Stats[0])\n",
        "  print('Sensitivity:',Stats[1])\n",
        "  print('Specificity:',Stats[2])\n",
        "  print('F1-Score:',Stats[3])\n",
        "  print('MCC:',Stats[4])\n",
        "  print('Balance Accuracy:',Stats[5])\n",
        "  print('Youden-Index:',Stats[6])\n",
        "  print('Reconstruction MSE:',Stats[7])\n",
        "  print(70*'-')"
      ],
      "execution_count": 0,
      "outputs": []
    },
    {
      "cell_type": "markdown",
      "metadata": {
        "id": "7frgGLSzaC1p",
        "colab_type": "text"
      },
      "source": [
        "## Loading and pre-processing ECM prediction dataset"
      ]
    },
    {
      "cell_type": "code",
      "metadata": {
        "id": "DbQo93M8Obss",
        "colab_type": "code",
        "colab": {}
      },
      "source": [
        "## Loading and pre-processing AFP prediction dataset\n",
        "data_path = 'https://raw.githubusercontent.com/Shujaat123/ECM-LSE/master/Dataset.csv'\n",
        "dataset = pd.read_csv(data_path, index_col=None)\n",
        "\n",
        "seq=[]\n",
        "\n",
        "for index, row in dataset.iterrows():\n",
        "  array = [row['Class'], row['Sequence']]\n",
        "  name, sequence = array[0].split()[0], re.sub('[^ARNDCQEGHILKMFPSTWYV-]', '-', ''.join(array[1:]).upper())\n",
        "  seq.append([name, sequence])\n",
        "\n",
        "\n",
        "cksaapfea = []\n",
        "for i in seq:\n",
        "  temp= CKSAAP([i], gap=8)\n",
        "  cksaapfea.append(temp)\n",
        "\n",
        "dt = []\n",
        "for i in range(len(cksaapfea)):\n",
        "  temp = cksaapfea[i][1][1:]\n",
        "  dt.append(temp)\n",
        "\n",
        "dtn = np.array(dt)\n",
        "from keras.utils.np_utils import to_categorical\n",
        "y = dataset['Class']\n",
        "y[y=='AFP']=1\n",
        "y[y=='NON-AFP']=0\n",
        "y = to_categorical(y)\n",
        "LVs = [5]\n",
        "num_Trails = 20"
      ],
      "execution_count": 0,
      "outputs": []
    },
    {
      "cell_type": "markdown",
      "metadata": {
        "id": "ooB2PHJbaD16",
        "colab_type": "text"
      },
      "source": [
        "  ## Perform Monte-Carlos Simulations for [num_Trials]\\# of independent Trials\n"
      ]
    },
    {
      "cell_type": "code",
      "metadata": {
        "id": "iW4-Y7y-Q28O",
        "colab_type": "code",
        "colab": {}
      },
      "source": [
        "  ## Perform Monte-Carlos Simulations for [num_Trials]# of independent Trials\n",
        "  Stats =[]\n",
        "\n",
        "  for loop_ind in range(0,num_Trails):\n",
        "      # from random import sample\n",
        "\n",
        "      plist = list(np.asarray(np.where(y[:,1]==1)).flatten())\n",
        "      nlist = list(np.asarray(np.where(y[:,1]==0)).flatten())\n",
        "\n",
        "      ## train\n",
        "      p_train = sample(plist, 270)\n",
        "      n_train = sample(nlist, 270)\n",
        "      train_list = p_train + n_train\n",
        "      X_train = dtn[p_train + n_train]\n",
        "      y_train = y[p_train + n_train]\n",
        "\n",
        "      ## valid\n",
        "      p_val_list = set(plist) - set(p_train)\n",
        "      n_val_list = set(nlist) - set(n_train)\n",
        "      p_val = sample(p_val_list, 30)\n",
        "      n_val = sample(n_val_list, 30)\n",
        "      X_val = dtn[list(p_val)+list(n_val)]\n",
        "      y_val = y[list(p_val)+list(n_val)]\n",
        "      val_list = list(p_val) + list(n_val)\n",
        "\n",
        "      ## test\n",
        "      dev_list = train_list + val_list\n",
        "      test_list = set(list(np.where(y)[0])) - (set(dev_list))\n",
        "      X_test = dtn[list(test_list)]\n",
        "      y_test = y[list(test_list)]\n",
        "\n",
        "      model = AFP_LSE_Final_Model(LV=LVs[0])\n",
        "\n",
        "      es = EarlyStopping(monitor='val_loss', mode='min', verbose=0, patience=300)\n",
        "\n",
        "      checkpoint = ModelCheckpoint('models\\\\model-best.h5',\n",
        "                                    verbose=0, monitor='val_loss',save_best_only=True, mode='auto')\n",
        "\n",
        "\n",
        "      history = model.fit({'enc_input': X_train},\n",
        "                          {'class_output': y_train, 'decoder_output': X_train},\n",
        "                          validation_data = ({'enc_input': X_val},\n",
        "                          {'class_output': y_val, 'decoder_output': X_val}),\n",
        "                          epochs=700, batch_size=100, callbacks=[checkpoint, es], verbose=0)\n",
        "\n",
        "      del model  # deletes the existing model\n",
        "      model = load_model('models\\\\model-best.h5')\n",
        "\n",
        "      y_train_pred, X_train_pred = model.predict(X_train,batch_size=540, verbose=0)\n",
        "      y_train_pred = to_categorical(y_train_pred.argmax(axis=1))\n",
        "      MSE_X_train_pred = (np.square(X_train_pred - X_train)).mean(axis=1)\n",
        "\n",
        "      y_val_pred, X_val_pred = model.predict(X_val,batch_size=60, verbose=0)\n",
        "      y_val_pred = to_categorical(y_val_pred.argmax(axis=1))\n",
        "      MSE_X_val_pred = (np.square(X_val_pred - X_val)).mean(axis=1)\n",
        "\n",
        "      y_test_pred, X_test_pred = model.predict(X_test,batch_size=9074, verbose=0)\n",
        "      y_test_pred = to_categorical(y_test_pred.argmax(axis=1))\n",
        "      MSE_X_test_pred = (np.square(X_test_pred - X_test)).mean(axis=1)\n",
        "\n",
        "     \n",
        "      ## Training Measures\n",
        "      tr_acc = accuracy_score(y_train.argmax(axis=1), y_train_pred.argmax(axis=1))\n",
        "      tr_sen = pmeasure(y_train.argmax(axis=1), y_train_pred.argmax(axis=1))['Sensitivity']\n",
        "      tr_spe = pmeasure(y_train.argmax(axis=1), y_train_pred.argmax(axis=1))['Specificity']\n",
        "      tr_f1 = pmeasure(y_train.argmax(axis=1), y_train_pred.argmax(axis=1))['F1-Score']\n",
        "      tr_mcc = matthews_corrcoef(y_train.argmax(axis=1), y_train_pred.argmax(axis=1))\n",
        "      tr_bacc = balanced_accuracy_score(y_train.argmax(axis=1), y_train_pred.argmax(axis=1))\n",
        "      tr_yi = yoden_index(y_train.argmax(axis=1), y_train_pred.argmax(axis=1))\n",
        "\n",
        "      ## Validation Measures\n",
        "      v_acc = accuracy_score(y_val.argmax(axis=1), y_val_pred.argmax(axis=1))\n",
        "      v_sen = pmeasure(y_val.argmax(axis=1), y_val_pred.argmax(axis=1))['Sensitivity']\n",
        "      v_spe = pmeasure(y_val.argmax(axis=1), y_val_pred.argmax(axis=1))['Specificity']\n",
        "      v_f1 = pmeasure(y_val.argmax(axis=1), y_val_pred.argmax(axis=1))['F1-Score']\n",
        "      v_mcc = matthews_corrcoef(y_val.argmax(axis=1), y_val_pred.argmax(axis=1))\n",
        "      v_bacc = balanced_accuracy_score(y_val.argmax(axis=1), y_val_pred.argmax(axis=1))\n",
        "      v_yi = yoden_index(y_val.argmax(axis=1), y_val_pred.argmax(axis=1))\n",
        "\n",
        "      ## Test Measures\n",
        "      t_acc = accuracy_score(y_test.argmax(axis=1), y_test_pred.argmax(axis=1))\n",
        "      t_sen = pmeasure(y_test.argmax(axis=1), y_test_pred.argmax(axis=1))['Sensitivity']\n",
        "      t_spe = pmeasure(y_test.argmax(axis=1), y_test_pred.argmax(axis=1))['Specificity']\n",
        "      t_f1 = pmeasure(y_test.argmax(axis=1), y_test_pred.argmax(axis=1))['F1-Score']\n",
        "      t_mcc = matthews_corrcoef(y_test.argmax(axis=1), y_test_pred.argmax(axis=1))\n",
        "      t_bacc = balanced_accuracy_score(y_test.argmax(axis=1), y_test_pred.argmax(axis=1))\n",
        "      t_yi = yoden_index(y_test.argmax(axis=1), y_test_pred.argmax(axis=1))\n",
        "\n",
        "\n",
        "      Stats.append([tr_acc, tr_sen, tr_spe, tr_f1, tr_mcc, tr_bacc, tr_yi, -10*np.log10(MSE_X_train_pred.mean()),\n",
        "                    v_acc, v_sen, v_spe, v_f1, v_mcc, v_bacc, v_yi, -10*np.log10(MSE_X_val_pred.mean()),\n",
        "                    t_acc, t_sen, t_spe, t_f1, t_mcc, t_bacc, t_yi, -10*np.log10(MSE_X_test_pred.mean())])\n",
        "      print('LV=',LVs[0],'Trial:',loop_ind)\n",
        "\n",
        "  Statistics = np.asarray(Stats)\n"
      ],
      "execution_count": 0,
      "outputs": []
    },
    {
      "cell_type": "markdown",
      "metadata": {
        "id": "ddwzm0NGaFsy",
        "colab_type": "text"
      },
      "source": [
        "## Show Classification/Reconstruction Statistics"
      ]
    },
    {
      "cell_type": "code",
      "metadata": {
        "id": "WSXF9ZkXXv3Y",
        "colab_type": "code",
        "colab": {}
      },
      "source": [
        "## Show Classification/Reconstruction Statistics\n",
        "Show_Statistics('Training Results (MEAN)',Statistics.mean(axis=0)[0:8])\n",
        "Show_Statistics('Validation Results (MEAN)',Statistics.mean(axis=0)[8:16])\n",
        "Show_Statistics('Test Results (MEAN)',Statistics.mean(axis=0)[16:24])"
      ],
      "execution_count": 0,
      "outputs": []
    }
  ]
}